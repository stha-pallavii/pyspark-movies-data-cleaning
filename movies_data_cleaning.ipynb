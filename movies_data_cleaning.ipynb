{
 "cells": [
  {
   "cell_type": "markdown",
   "id": "a4b7c4fc",
   "metadata": {},
   "source": [
    "### Dataset = Movies Daily Update Dataset (movies.csv) - 357.53 MB"
   ]
  },
  {
   "cell_type": "markdown",
   "id": "868c164e",
   "metadata": {},
   "source": [
    "## Pre-processing\n",
    "1. The dataset is directly imported from kaggle using opendatasets\n",
    "2. Duplicate rows are dropped\n",
    "3. Rows containing any null values are dropped\n",
    "4. Columns that are not needed for doing the tasks are dropped\n",
    "5. Data types of columns are changed to appropriate type\n",
    "6. Cleaned Data is saved as cleaned_movies_dataset.csv"
   ]
  },
  {
   "cell_type": "code",
   "execution_count": 2,
   "id": "f023fa66",
   "metadata": {},
   "outputs": [],
   "source": [
    "import opendatasets as od"
   ]
  },
  {
   "cell_type": "code",
   "execution_count": 3,
   "id": "ed2cfb55",
   "metadata": {},
   "outputs": [
    {
     "name": "stdout",
     "output_type": "stream",
     "text": [
      "Skipping, found downloaded files in \"./millions-of-movies\" (use force=True to force download)\n"
     ]
    }
   ],
   "source": [
    "od.download(\"https://www.kaggle.com/datasets/akshaypawar7/millions-of-movies?select=movies.csv\")"
   ]
  },
  {
   "cell_type": "code",
   "execution_count": 4,
   "id": "34c993f4",
   "metadata": {},
   "outputs": [],
   "source": [
    "import pyspark\n",
    "from pyspark.sql import SparkSession"
   ]
  },
  {
   "cell_type": "code",
   "execution_count": 5,
   "id": "f94e324e",
   "metadata": {},
   "outputs": [
    {
     "name": "stdout",
     "output_type": "stream",
     "text": [
      "22/11/02 23:22:53 WARN Utils: Your hostname, pallavi-xps resolves to a loopback address: 127.0.1.1; using 192.168.1.81 instead (on interface wlp2s0)\n",
      "22/11/02 23:22:53 WARN Utils: Set SPARK_LOCAL_IP if you need to bind to another address\n"
     ]
    },
    {
     "name": "stderr",
     "output_type": "stream",
     "text": [
      "Setting default log level to \"WARN\".\n",
      "To adjust logging level use sc.setLogLevel(newLevel). For SparkR, use setLogLevel(newLevel).\n"
     ]
    },
    {
     "name": "stdout",
     "output_type": "stream",
     "text": [
      "22/11/02 23:22:54 WARN NativeCodeLoader: Unable to load native-hadoop library for your platform... using builtin-java classes where applicable\n"
     ]
    }
   ],
   "source": [
    "spark = SparkSession.builder.appName(\"Spark_Final_Project_Movies\").getOrCreate()"
   ]
  },
  {
   "cell_type": "code",
   "execution_count": 6,
   "id": "d1c2fb4e",
   "metadata": {},
   "outputs": [
    {
     "name": "stderr",
     "output_type": "stream",
     "text": [
      "                                                                                \r"
     ]
    }
   ],
   "source": [
    "movies_df = spark.read.csv('millions-of-movies/movies.csv',inferSchema=True,header=True)"
   ]
  },
  {
   "cell_type": "code",
   "execution_count": 7,
   "id": "c2c0589c",
   "metadata": {},
   "outputs": [
    {
     "name": "stdout",
     "output_type": "stream",
     "text": [
      "root\n",
      " |-- id: integer (nullable = true)\n",
      " |-- title: string (nullable = true)\n",
      " |-- genres: string (nullable = true)\n",
      " |-- original_language: string (nullable = true)\n",
      " |-- overview: string (nullable = true)\n",
      " |-- popularity: string (nullable = true)\n",
      " |-- production_companies: string (nullable = true)\n",
      " |-- release_date: string (nullable = true)\n",
      " |-- budget: string (nullable = true)\n",
      " |-- revenue: string (nullable = true)\n",
      " |-- runtime: string (nullable = true)\n",
      " |-- status: string (nullable = true)\n",
      " |-- tagline: string (nullable = true)\n",
      " |-- vote_average: string (nullable = true)\n",
      " |-- vote_count: string (nullable = true)\n",
      " |-- credits: string (nullable = true)\n",
      " |-- keywords: string (nullable = true)\n",
      " |-- poster_path: string (nullable = true)\n",
      " |-- backdrop_path: string (nullable = true)\n",
      " |-- recommendations: string (nullable = true)\n",
      "\n"
     ]
    }
   ],
   "source": [
    "movies_df.printSchema()"
   ]
  },
  {
   "cell_type": "code",
   "execution_count": 8,
   "id": "3f23e30c",
   "metadata": {},
   "outputs": [
    {
     "data": {
      "text/plain": [
       "['id',\n",
       " 'title',\n",
       " 'genres',\n",
       " 'original_language',\n",
       " 'overview',\n",
       " 'popularity',\n",
       " 'production_companies',\n",
       " 'release_date',\n",
       " 'budget',\n",
       " 'revenue',\n",
       " 'runtime',\n",
       " 'status',\n",
       " 'tagline',\n",
       " 'vote_average',\n",
       " 'vote_count',\n",
       " 'credits',\n",
       " 'keywords',\n",
       " 'poster_path',\n",
       " 'backdrop_path',\n",
       " 'recommendations']"
      ]
     },
     "execution_count": 8,
     "metadata": {},
     "output_type": "execute_result"
    }
   ],
   "source": [
    "movies_df.columns"
   ]
  },
  {
   "cell_type": "code",
   "execution_count": 9,
   "id": "5fba24af",
   "metadata": {},
   "outputs": [
    {
     "name": "stderr",
     "output_type": "stream",
     "text": [
      "\r",
      "[Stage 2:>                                                          (0 + 8) / 8]\r",
      "\r",
      "                                                                                \r"
     ]
    },
    {
     "data": {
      "text/plain": [
       "739953"
      ]
     },
     "execution_count": 9,
     "metadata": {},
     "output_type": "execute_result"
    }
   ],
   "source": [
    "movies_df.count()"
   ]
  },
  {
   "cell_type": "code",
   "execution_count": 10,
   "id": "e53cd7ee",
   "metadata": {},
   "outputs": [],
   "source": [
    "movies_df = movies_df.dropDuplicates()"
   ]
  },
  {
   "cell_type": "code",
   "execution_count": 11,
   "id": "ca0d67fc",
   "metadata": {},
   "outputs": [
    {
     "name": "stderr",
     "output_type": "stream",
     "text": [
      "                                                                                \r"
     ]
    },
    {
     "data": {
      "text/plain": [
       "739825"
      ]
     },
     "execution_count": 11,
     "metadata": {},
     "output_type": "execute_result"
    }
   ],
   "source": [
    "movies_df.count()"
   ]
  },
  {
   "cell_type": "code",
   "execution_count": 12,
   "id": "d3c1b83a",
   "metadata": {},
   "outputs": [],
   "source": [
    "movies_df=movies_df.na.drop(\"any\")"
   ]
  },
  {
   "cell_type": "code",
   "execution_count": 13,
   "id": "14582fd0",
   "metadata": {},
   "outputs": [
    {
     "name": "stderr",
     "output_type": "stream",
     "text": [
      "                                                                                \r"
     ]
    },
    {
     "data": {
      "text/plain": [
       "15900"
      ]
     },
     "execution_count": 13,
     "metadata": {},
     "output_type": "execute_result"
    }
   ],
   "source": [
    "movies_df.count()"
   ]
  },
  {
   "cell_type": "code",
   "execution_count": 14,
   "id": "bee126bb",
   "metadata": {},
   "outputs": [],
   "source": [
    "# movies_df.show(10)"
   ]
  },
  {
   "cell_type": "code",
   "execution_count": 16,
   "id": "a864f4ec",
   "metadata": {},
   "outputs": [],
   "source": [
    "movies_df=movies_df.drop(\"overview\")"
   ]
  },
  {
   "cell_type": "code",
   "execution_count": 17,
   "id": "36d888f1",
   "metadata": {},
   "outputs": [],
   "source": [
    "movies_df=movies_df.drop(\"credits\")"
   ]
  },
  {
   "cell_type": "code",
   "execution_count": 19,
   "id": "947dbc79",
   "metadata": {},
   "outputs": [],
   "source": [
    "movies_df=movies_df.drop(\"recommendations\")"
   ]
  },
  {
   "cell_type": "code",
   "execution_count": 25,
   "id": "f7c6db1f",
   "metadata": {},
   "outputs": [],
   "source": [
    "movies_df=movies_df.drop(\"backdrop_path\")"
   ]
  },
  {
   "cell_type": "code",
   "execution_count": 26,
   "id": "844b9369",
   "metadata": {},
   "outputs": [],
   "source": [
    "movies_df=movies_df.drop(\"poster_path\")"
   ]
  },
  {
   "cell_type": "code",
   "execution_count": 27,
   "id": "0c126d2e",
   "metadata": {},
   "outputs": [
    {
     "name": "stdout",
     "output_type": "stream",
     "text": [
      "root\n",
      " |-- id: integer (nullable = true)\n",
      " |-- title: string (nullable = true)\n",
      " |-- genres: string (nullable = true)\n",
      " |-- original_language: string (nullable = true)\n",
      " |-- popularity: string (nullable = true)\n",
      " |-- production_companies: string (nullable = true)\n",
      " |-- release_date: string (nullable = true)\n",
      " |-- budget: string (nullable = true)\n",
      " |-- revenue: string (nullable = true)\n",
      " |-- runtime: string (nullable = true)\n",
      " |-- status: string (nullable = true)\n",
      " |-- tagline: string (nullable = true)\n",
      " |-- vote_average: string (nullable = true)\n",
      " |-- vote_count: string (nullable = true)\n",
      " |-- keywords: string (nullable = true)\n",
      "\n"
     ]
    }
   ],
   "source": [
    "movies_df.printSchema()"
   ]
  },
  {
   "cell_type": "code",
   "execution_count": 29,
   "id": "264b0a5d",
   "metadata": {
    "scrolled": false
   },
   "outputs": [
    {
     "name": "stdout",
     "output_type": "stream",
     "text": [
      "root\n",
      " |-- id: integer (nullable = true)\n",
      " |-- title: string (nullable = true)\n",
      " |-- genres: string (nullable = true)\n",
      " |-- original_language: string (nullable = true)\n",
      " |-- popularity: float (nullable = true)\n",
      " |-- production_companies: string (nullable = true)\n",
      " |-- release_date: date (nullable = true)\n",
      " |-- budget: integer (nullable = true)\n",
      " |-- revenue: integer (nullable = true)\n",
      " |-- runtime: integer (nullable = true)\n",
      " |-- status: string (nullable = true)\n",
      " |-- tagline: string (nullable = true)\n",
      " |-- vote_average: float (nullable = true)\n",
      " |-- vote_count: integer (nullable = true)\n",
      " |-- keywords: string (nullable = true)\n",
      "\n"
     ]
    }
   ],
   "source": [
    "#all columns have data type string. So, we need to convert the datatypes using cast method\n",
    "\n",
    "from pyspark.sql.types import StringType, FloatType, IntegerType, DateType\n",
    "from pyspark.sql.functions import col\n",
    "\n",
    "\n",
    "movies_df = movies_df\\\n",
    "            .withColumn('popularity', col('popularity').cast(FloatType()))\\\n",
    "            .withColumn('release_date', col('release_date').cast(DateType()))\\\n",
    "            .withColumn('budget', col('budget').cast(IntegerType()))\\\n",
    "            .withColumn('revenue', col('revenue').cast(IntegerType()))\\\n",
    "            .withColumn('runtime', col('runtime').cast(IntegerType()))\\\n",
    "            .withColumn('vote_average', col('vote_average').cast(FloatType()))\\\n",
    "            .withColumn('vote_count', col('vote_count').cast(IntegerType()))\n",
    "\n",
    "\n",
    "movies_df.printSchema()"
   ]
  },
  {
   "cell_type": "code",
   "execution_count": 31,
   "id": "a80460f8",
   "metadata": {},
   "outputs": [],
   "source": [
    "movies_df.toPandas().to_csv('millions-of-movies/cleaned_movies_dataset.csv',index= False)"
   ]
  },
  {
   "cell_type": "code",
   "execution_count": null,
   "id": "4d27a852",
   "metadata": {},
   "outputs": [],
   "source": []
  }
 ],
 "metadata": {
  "kernelspec": {
   "display_name": "Python 3 (ipykernel)",
   "language": "python",
   "name": "python3"
  },
  "language_info": {
   "codemirror_mode": {
    "name": "ipython",
    "version": 3
   },
   "file_extension": ".py",
   "mimetype": "text/x-python",
   "name": "python",
   "nbconvert_exporter": "python",
   "pygments_lexer": "ipython3",
   "version": "3.10.6"
  }
 },
 "nbformat": 4,
 "nbformat_minor": 5
}
